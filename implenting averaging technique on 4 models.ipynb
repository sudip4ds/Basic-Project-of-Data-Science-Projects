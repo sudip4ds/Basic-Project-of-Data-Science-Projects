{
 "cells": [
  {
   "cell_type": "markdown",
   "id": "3db272a6",
   "metadata": {},
   "source": [
    "# Project: Building Basic predictive models over the NYC Taxi Trip dataset.\n"
   ]
  },
  {
   "cell_type": "code",
   "execution_count": 1,
   "id": "3289ef63",
   "metadata": {},
   "outputs": [],
   "source": [
    "#importing libraries \n",
    "import pandas as pd\n",
    "import numpy as np\n",
    "import matplotlib.pyplot as plt\n",
    "import seaborn as sns\n",
    "import datetime as dt\n",
    "from scipy import stats\n",
    "from sklearn.preprocessing import LabelEncoder\n",
    "from haversine import haversine, Unit\n",
    "from scipy.stats import skew, kurtosis\n",
    "sns.set() \n",
    "%matplotlib inline"
   ]
  },
  {
   "cell_type": "code",
   "execution_count": 2,
   "id": "46c4c2c8",
   "metadata": {},
   "outputs": [],
   "source": [
    "# Importing the provided dataset from the data folder.\n",
    "df = pd.read_csv('nyc_taxi_trip_duration Dataset.csv')"
   ]
  },
  {
   "cell_type": "code",
   "execution_count": 3,
   "id": "4c492e5c",
   "metadata": {},
   "outputs": [
    {
     "data": {
      "text/html": [
       "<div>\n",
       "<style scoped>\n",
       "    .dataframe tbody tr th:only-of-type {\n",
       "        vertical-align: middle;\n",
       "    }\n",
       "\n",
       "    .dataframe tbody tr th {\n",
       "        vertical-align: top;\n",
       "    }\n",
       "\n",
       "    .dataframe thead th {\n",
       "        text-align: right;\n",
       "    }\n",
       "</style>\n",
       "<table border=\"1\" class=\"dataframe\">\n",
       "  <thead>\n",
       "    <tr style=\"text-align: right;\">\n",
       "      <th></th>\n",
       "      <th>id</th>\n",
       "      <th>vendor_id</th>\n",
       "      <th>pickup_datetime</th>\n",
       "      <th>dropoff_datetime</th>\n",
       "      <th>passenger_count</th>\n",
       "      <th>pickup_longitude</th>\n",
       "      <th>pickup_latitude</th>\n",
       "      <th>dropoff_longitude</th>\n",
       "      <th>dropoff_latitude</th>\n",
       "      <th>store_and_fwd_flag</th>\n",
       "      <th>trip_duration</th>\n",
       "    </tr>\n",
       "  </thead>\n",
       "  <tbody>\n",
       "    <tr>\n",
       "      <th>0</th>\n",
       "      <td>id1080784</td>\n",
       "      <td>2</td>\n",
       "      <td>2016-02-29 16:40:21</td>\n",
       "      <td>2016-02-29 16:47:01</td>\n",
       "      <td>1</td>\n",
       "      <td>-73.953918</td>\n",
       "      <td>40.778873</td>\n",
       "      <td>-73.963875</td>\n",
       "      <td>40.771164</td>\n",
       "      <td>N</td>\n",
       "      <td>400</td>\n",
       "    </tr>\n",
       "    <tr>\n",
       "      <th>1</th>\n",
       "      <td>id0889885</td>\n",
       "      <td>1</td>\n",
       "      <td>2016-03-11 23:35:37</td>\n",
       "      <td>2016-03-11 23:53:57</td>\n",
       "      <td>2</td>\n",
       "      <td>-73.988312</td>\n",
       "      <td>40.731743</td>\n",
       "      <td>-73.994751</td>\n",
       "      <td>40.694931</td>\n",
       "      <td>N</td>\n",
       "      <td>1100</td>\n",
       "    </tr>\n",
       "    <tr>\n",
       "      <th>2</th>\n",
       "      <td>id0857912</td>\n",
       "      <td>2</td>\n",
       "      <td>2016-02-21 17:59:33</td>\n",
       "      <td>2016-02-21 18:26:48</td>\n",
       "      <td>2</td>\n",
       "      <td>-73.997314</td>\n",
       "      <td>40.721458</td>\n",
       "      <td>-73.948029</td>\n",
       "      <td>40.774918</td>\n",
       "      <td>N</td>\n",
       "      <td>1635</td>\n",
       "    </tr>\n",
       "    <tr>\n",
       "      <th>3</th>\n",
       "      <td>id3744273</td>\n",
       "      <td>2</td>\n",
       "      <td>2016-01-05 09:44:31</td>\n",
       "      <td>2016-01-05 10:03:32</td>\n",
       "      <td>6</td>\n",
       "      <td>-73.961670</td>\n",
       "      <td>40.759720</td>\n",
       "      <td>-73.956779</td>\n",
       "      <td>40.780628</td>\n",
       "      <td>N</td>\n",
       "      <td>1141</td>\n",
       "    </tr>\n",
       "    <tr>\n",
       "      <th>4</th>\n",
       "      <td>id0232939</td>\n",
       "      <td>1</td>\n",
       "      <td>2016-02-17 06:42:23</td>\n",
       "      <td>2016-02-17 06:56:31</td>\n",
       "      <td>1</td>\n",
       "      <td>-74.017120</td>\n",
       "      <td>40.708469</td>\n",
       "      <td>-73.988182</td>\n",
       "      <td>40.740631</td>\n",
       "      <td>N</td>\n",
       "      <td>848</td>\n",
       "    </tr>\n",
       "  </tbody>\n",
       "</table>\n",
       "</div>"
      ],
      "text/plain": [
       "          id  vendor_id      pickup_datetime     dropoff_datetime  \\\n",
       "0  id1080784          2  2016-02-29 16:40:21  2016-02-29 16:47:01   \n",
       "1  id0889885          1  2016-03-11 23:35:37  2016-03-11 23:53:57   \n",
       "2  id0857912          2  2016-02-21 17:59:33  2016-02-21 18:26:48   \n",
       "3  id3744273          2  2016-01-05 09:44:31  2016-01-05 10:03:32   \n",
       "4  id0232939          1  2016-02-17 06:42:23  2016-02-17 06:56:31   \n",
       "\n",
       "   passenger_count  pickup_longitude  pickup_latitude  dropoff_longitude  \\\n",
       "0                1        -73.953918        40.778873         -73.963875   \n",
       "1                2        -73.988312        40.731743         -73.994751   \n",
       "2                2        -73.997314        40.721458         -73.948029   \n",
       "3                6        -73.961670        40.759720         -73.956779   \n",
       "4                1        -74.017120        40.708469         -73.988182   \n",
       "\n",
       "   dropoff_latitude store_and_fwd_flag  trip_duration  \n",
       "0         40.771164                  N            400  \n",
       "1         40.694931                  N           1100  \n",
       "2         40.774918                  N           1635  \n",
       "3         40.780628                  N           1141  \n",
       "4         40.740631                  N            848  "
      ]
     },
     "execution_count": 3,
     "metadata": {},
     "output_type": "execute_result"
    }
   ],
   "source": [
    "df.head()"
   ]
  },
  {
   "cell_type": "code",
   "execution_count": 4,
   "id": "7caedceb",
   "metadata": {},
   "outputs": [],
   "source": [
    "df=df[df.trip_duration!=df.trip_duration.max()]\n",
    "df=df[df.trip_duration!=df.trip_duration.min()]"
   ]
  },
  {
   "cell_type": "code",
   "execution_count": 5,
   "id": "13ab5303",
   "metadata": {},
   "outputs": [],
   "source": [
    "df['trip_duration_hour']=df['trip_duration']/3600"
   ]
  },
  {
   "cell_type": "code",
   "execution_count": 6,
   "id": "59a34c24",
   "metadata": {},
   "outputs": [
    {
     "data": {
      "text/plain": [
       "1    517403\n",
       "2    105096\n",
       "5     38926\n",
       "3     29692\n",
       "6     24107\n",
       "4     14050\n",
       "0        32\n",
       "7         1\n",
       "9         1\n",
       "Name: passenger_count, dtype: int64"
      ]
     },
     "execution_count": 6,
     "metadata": {},
     "output_type": "execute_result"
    }
   ],
   "source": [
    "df.passenger_count.value_counts()"
   ]
  },
  {
   "cell_type": "code",
   "execution_count": 7,
   "id": "5a9435c5",
   "metadata": {},
   "outputs": [],
   "source": [
    "df=df[df.passenger_count<=6]\n",
    "df=df[df.passenger_count!=0]"
   ]
  },
  {
   "cell_type": "code",
   "execution_count": 8,
   "id": "1d4ce73f",
   "metadata": {},
   "outputs": [],
   "source": [
    "# Changing the pickup_datetime and dropoff_datetime from object to datetime datatype\n",
    "df['pickup_datetime']=pd.to_datetime(df['pickup_datetime'])\n",
    "df['dropoff_datetime']=pd.to_datetime(df['dropoff_datetime'])"
   ]
  },
  {
   "cell_type": "code",
   "execution_count": 9,
   "id": "ce97a1e0",
   "metadata": {},
   "outputs": [],
   "source": [
    "# Creating features based on month\n",
    "df['pickup_by_month'] = df['pickup_datetime'].dt.month\n",
    "df['dropoff_by_month'] = df['dropoff_datetime'].dt.month"
   ]
  },
  {
   "cell_type": "code",
   "execution_count": 10,
   "id": "d064b298",
   "metadata": {},
   "outputs": [],
   "source": [
    "# Creating features based on month\n",
    "df['pickup_by_month'] = df['pickup_datetime'].dt.month\n",
    "df['dropoff_by_month'] = df['dropoff_datetime'].dt.month"
   ]
  },
  {
   "cell_type": "code",
   "execution_count": 11,
   "id": "725d91a8",
   "metadata": {},
   "outputs": [],
   "source": [
    "df['pickup_day']=df['pickup_datetime'].dt.day\n",
    "df['dropoff_day']=df['dropoff_datetime'].dt.day\n",
    "df['pickup_month']=df['pickup_datetime'].dt.month\n",
    "df['dropoff_month']=df['dropoff_datetime'].dt.month"
   ]
  },
  {
   "cell_type": "code",
   "execution_count": 12,
   "id": "62397e82",
   "metadata": {},
   "outputs": [
    {
     "name": "stdout",
     "output_type": "stream",
     "text": [
      "6    53\n",
      "Name: pickup_datetime, dtype: int64\n",
      "30    53\n",
      "Name: pickup_datetime, dtype: int64\n"
     ]
    }
   ],
   "source": [
    "print(df[df.dropoff_month==7].pickup_datetime.dt.month.value_counts())\n",
    "print(df[df.dropoff_month==7].pickup_datetime.dt.day.value_counts())"
   ]
  },
  {
   "cell_type": "code",
   "execution_count": 13,
   "id": "44a6248e",
   "metadata": {},
   "outputs": [
    {
     "name": "stdout",
     "output_type": "stream",
     "text": [
      "<class 'pandas.core.frame.DataFrame'>\n",
      "Int64Index: 729274 entries, 0 to 729321\n",
      "Data columns (total 18 columns):\n",
      " #   Column              Non-Null Count   Dtype         \n",
      "---  ------              --------------   -----         \n",
      " 0   id                  729274 non-null  object        \n",
      " 1   vendor_id           729274 non-null  int64         \n",
      " 2   pickup_datetime     729274 non-null  datetime64[ns]\n",
      " 3   dropoff_datetime    729274 non-null  datetime64[ns]\n",
      " 4   passenger_count     729274 non-null  int64         \n",
      " 5   pickup_longitude    729274 non-null  float64       \n",
      " 6   pickup_latitude     729274 non-null  float64       \n",
      " 7   dropoff_longitude   729274 non-null  float64       \n",
      " 8   dropoff_latitude    729274 non-null  float64       \n",
      " 9   store_and_fwd_flag  729274 non-null  object        \n",
      " 10  trip_duration       729274 non-null  int64         \n",
      " 11  trip_duration_hour  729274 non-null  float64       \n",
      " 12  pickup_by_month     729274 non-null  int64         \n",
      " 13  dropoff_by_month    729274 non-null  int64         \n",
      " 14  pickup_day          729274 non-null  int64         \n",
      " 15  dropoff_day         729274 non-null  int64         \n",
      " 16  pickup_month        729274 non-null  int64         \n",
      " 17  dropoff_month       729274 non-null  int64         \n",
      "dtypes: datetime64[ns](2), float64(5), int64(9), object(2)\n",
      "memory usage: 105.7+ MB\n"
     ]
    }
   ],
   "source": [
    "df.info()"
   ]
  },
  {
   "cell_type": "code",
   "execution_count": 14,
   "id": "06e1ad75",
   "metadata": {},
   "outputs": [],
   "source": [
    "df['id'] = df['id'].str.replace('id', '')"
   ]
  },
  {
   "cell_type": "code",
   "execution_count": 15,
   "id": "b95af643",
   "metadata": {},
   "outputs": [],
   "source": [
    "df=df.drop(['pickup_datetime', 'dropoff_datetime'],axis=1)"
   ]
  },
  {
   "cell_type": "code",
   "execution_count": 16,
   "id": "5e95c382",
   "metadata": {},
   "outputs": [],
   "source": [
    "df['store_and_fwd_flag'] = df['store_and_fwd_flag'].map({'N': 0,\n",
    "                               'Y': 1})"
   ]
  },
  {
   "cell_type": "code",
   "execution_count": 17,
   "id": "0a561a9e",
   "metadata": {},
   "outputs": [
    {
     "data": {
      "text/html": [
       "<div>\n",
       "<style scoped>\n",
       "    .dataframe tbody tr th:only-of-type {\n",
       "        vertical-align: middle;\n",
       "    }\n",
       "\n",
       "    .dataframe tbody tr th {\n",
       "        vertical-align: top;\n",
       "    }\n",
       "\n",
       "    .dataframe thead th {\n",
       "        text-align: right;\n",
       "    }\n",
       "</style>\n",
       "<table border=\"1\" class=\"dataframe\">\n",
       "  <thead>\n",
       "    <tr style=\"text-align: right;\">\n",
       "      <th></th>\n",
       "      <th>id</th>\n",
       "      <th>vendor_id</th>\n",
       "      <th>passenger_count</th>\n",
       "      <th>pickup_longitude</th>\n",
       "      <th>pickup_latitude</th>\n",
       "      <th>dropoff_longitude</th>\n",
       "      <th>dropoff_latitude</th>\n",
       "      <th>store_and_fwd_flag</th>\n",
       "      <th>trip_duration</th>\n",
       "      <th>trip_duration_hour</th>\n",
       "      <th>pickup_by_month</th>\n",
       "      <th>dropoff_by_month</th>\n",
       "      <th>pickup_day</th>\n",
       "      <th>dropoff_day</th>\n",
       "      <th>pickup_month</th>\n",
       "      <th>dropoff_month</th>\n",
       "    </tr>\n",
       "  </thead>\n",
       "  <tbody>\n",
       "    <tr>\n",
       "      <th>0</th>\n",
       "      <td>1080784</td>\n",
       "      <td>2</td>\n",
       "      <td>1</td>\n",
       "      <td>-73.953918</td>\n",
       "      <td>40.778873</td>\n",
       "      <td>-73.963875</td>\n",
       "      <td>40.771164</td>\n",
       "      <td>0</td>\n",
       "      <td>400</td>\n",
       "      <td>0.111111</td>\n",
       "      <td>2</td>\n",
       "      <td>2</td>\n",
       "      <td>29</td>\n",
       "      <td>29</td>\n",
       "      <td>2</td>\n",
       "      <td>2</td>\n",
       "    </tr>\n",
       "    <tr>\n",
       "      <th>1</th>\n",
       "      <td>0889885</td>\n",
       "      <td>1</td>\n",
       "      <td>2</td>\n",
       "      <td>-73.988312</td>\n",
       "      <td>40.731743</td>\n",
       "      <td>-73.994751</td>\n",
       "      <td>40.694931</td>\n",
       "      <td>0</td>\n",
       "      <td>1100</td>\n",
       "      <td>0.305556</td>\n",
       "      <td>3</td>\n",
       "      <td>3</td>\n",
       "      <td>11</td>\n",
       "      <td>11</td>\n",
       "      <td>3</td>\n",
       "      <td>3</td>\n",
       "    </tr>\n",
       "    <tr>\n",
       "      <th>2</th>\n",
       "      <td>0857912</td>\n",
       "      <td>2</td>\n",
       "      <td>2</td>\n",
       "      <td>-73.997314</td>\n",
       "      <td>40.721458</td>\n",
       "      <td>-73.948029</td>\n",
       "      <td>40.774918</td>\n",
       "      <td>0</td>\n",
       "      <td>1635</td>\n",
       "      <td>0.454167</td>\n",
       "      <td>2</td>\n",
       "      <td>2</td>\n",
       "      <td>21</td>\n",
       "      <td>21</td>\n",
       "      <td>2</td>\n",
       "      <td>2</td>\n",
       "    </tr>\n",
       "    <tr>\n",
       "      <th>3</th>\n",
       "      <td>3744273</td>\n",
       "      <td>2</td>\n",
       "      <td>6</td>\n",
       "      <td>-73.961670</td>\n",
       "      <td>40.759720</td>\n",
       "      <td>-73.956779</td>\n",
       "      <td>40.780628</td>\n",
       "      <td>0</td>\n",
       "      <td>1141</td>\n",
       "      <td>0.316944</td>\n",
       "      <td>1</td>\n",
       "      <td>1</td>\n",
       "      <td>5</td>\n",
       "      <td>5</td>\n",
       "      <td>1</td>\n",
       "      <td>1</td>\n",
       "    </tr>\n",
       "    <tr>\n",
       "      <th>4</th>\n",
       "      <td>0232939</td>\n",
       "      <td>1</td>\n",
       "      <td>1</td>\n",
       "      <td>-74.017120</td>\n",
       "      <td>40.708469</td>\n",
       "      <td>-73.988182</td>\n",
       "      <td>40.740631</td>\n",
       "      <td>0</td>\n",
       "      <td>848</td>\n",
       "      <td>0.235556</td>\n",
       "      <td>2</td>\n",
       "      <td>2</td>\n",
       "      <td>17</td>\n",
       "      <td>17</td>\n",
       "      <td>2</td>\n",
       "      <td>2</td>\n",
       "    </tr>\n",
       "  </tbody>\n",
       "</table>\n",
       "</div>"
      ],
      "text/plain": [
       "        id  vendor_id  passenger_count  pickup_longitude  pickup_latitude  \\\n",
       "0  1080784          2                1        -73.953918        40.778873   \n",
       "1  0889885          1                2        -73.988312        40.731743   \n",
       "2  0857912          2                2        -73.997314        40.721458   \n",
       "3  3744273          2                6        -73.961670        40.759720   \n",
       "4  0232939          1                1        -74.017120        40.708469   \n",
       "\n",
       "   dropoff_longitude  dropoff_latitude  store_and_fwd_flag  trip_duration  \\\n",
       "0         -73.963875         40.771164                   0            400   \n",
       "1         -73.994751         40.694931                   0           1100   \n",
       "2         -73.948029         40.774918                   0           1635   \n",
       "3         -73.956779         40.780628                   0           1141   \n",
       "4         -73.988182         40.740631                   0            848   \n",
       "\n",
       "   trip_duration_hour  pickup_by_month  dropoff_by_month  pickup_day  \\\n",
       "0            0.111111                2                 2          29   \n",
       "1            0.305556                3                 3          11   \n",
       "2            0.454167                2                 2          21   \n",
       "3            0.316944                1                 1           5   \n",
       "4            0.235556                2                 2          17   \n",
       "\n",
       "   dropoff_day  pickup_month  dropoff_month  \n",
       "0           29             2              2  \n",
       "1           11             3              3  \n",
       "2           21             2              2  \n",
       "3            5             1              1  \n",
       "4           17             2              2  "
      ]
     },
     "execution_count": 17,
     "metadata": {},
     "output_type": "execute_result"
    }
   ],
   "source": [
    "df.head()"
   ]
  },
  {
   "cell_type": "code",
   "execution_count": 18,
   "id": "d7f32c2a",
   "metadata": {},
   "outputs": [
    {
     "name": "stdout",
     "output_type": "stream",
     "text": [
      "<class 'pandas.core.frame.DataFrame'>\n",
      "Int64Index: 729274 entries, 0 to 729321\n",
      "Data columns (total 16 columns):\n",
      " #   Column              Non-Null Count   Dtype  \n",
      "---  ------              --------------   -----  \n",
      " 0   id                  729274 non-null  object \n",
      " 1   vendor_id           729274 non-null  int64  \n",
      " 2   passenger_count     729274 non-null  int64  \n",
      " 3   pickup_longitude    729274 non-null  float64\n",
      " 4   pickup_latitude     729274 non-null  float64\n",
      " 5   dropoff_longitude   729274 non-null  float64\n",
      " 6   dropoff_latitude    729274 non-null  float64\n",
      " 7   store_and_fwd_flag  729274 non-null  int64  \n",
      " 8   trip_duration       729274 non-null  int64  \n",
      " 9   trip_duration_hour  729274 non-null  float64\n",
      " 10  pickup_by_month     729274 non-null  int64  \n",
      " 11  dropoff_by_month    729274 non-null  int64  \n",
      " 12  pickup_day          729274 non-null  int64  \n",
      " 13  dropoff_day         729274 non-null  int64  \n",
      " 14  pickup_month        729274 non-null  int64  \n",
      " 15  dropoff_month       729274 non-null  int64  \n",
      "dtypes: float64(5), int64(10), object(1)\n",
      "memory usage: 94.6+ MB\n"
     ]
    }
   ],
   "source": [
    "df.info()"
   ]
  },
  {
   "cell_type": "code",
   "execution_count": 19,
   "id": "1b22bad0",
   "metadata": {},
   "outputs": [],
   "source": [
    "enc = LabelEncoder()"
   ]
  },
  {
   "cell_type": "code",
   "execution_count": 20,
   "id": "43a2b142",
   "metadata": {},
   "outputs": [],
   "source": [
    "cat_col = ['id']"
   ]
  },
  {
   "cell_type": "code",
   "execution_count": 21,
   "id": "850adf0f",
   "metadata": {},
   "outputs": [],
   "source": [
    "# Encode categorical columns\n",
    "\n",
    "encoder = LabelEncoder()\n",
    "\n",
    "for col in cat_col:\n",
    "    df[col] = encoder.fit_transform(df[col])"
   ]
  },
  {
   "cell_type": "code",
   "execution_count": 22,
   "id": "54a446a6",
   "metadata": {},
   "outputs": [
    {
     "name": "stdout",
     "output_type": "stream",
     "text": [
      "<class 'pandas.core.frame.DataFrame'>\n",
      "Int64Index: 729274 entries, 0 to 729321\n",
      "Data columns (total 16 columns):\n",
      " #   Column              Non-Null Count   Dtype  \n",
      "---  ------              --------------   -----  \n",
      " 0   id                  729274 non-null  int32  \n",
      " 1   vendor_id           729274 non-null  int64  \n",
      " 2   passenger_count     729274 non-null  int64  \n",
      " 3   pickup_longitude    729274 non-null  float64\n",
      " 4   pickup_latitude     729274 non-null  float64\n",
      " 5   dropoff_longitude   729274 non-null  float64\n",
      " 6   dropoff_latitude    729274 non-null  float64\n",
      " 7   store_and_fwd_flag  729274 non-null  int64  \n",
      " 8   trip_duration       729274 non-null  int64  \n",
      " 9   trip_duration_hour  729274 non-null  float64\n",
      " 10  pickup_by_month     729274 non-null  int64  \n",
      " 11  dropoff_by_month    729274 non-null  int64  \n",
      " 12  pickup_day          729274 non-null  int64  \n",
      " 13  dropoff_day         729274 non-null  int64  \n",
      " 14  pickup_month        729274 non-null  int64  \n",
      " 15  dropoff_month       729274 non-null  int64  \n",
      "dtypes: float64(5), int32(1), int64(10)\n",
      "memory usage: 91.8 MB\n"
     ]
    }
   ],
   "source": [
    "df.info()"
   ]
  },
  {
   "cell_type": "markdown",
   "id": "97732a5f",
   "metadata": {},
   "source": [
    "# Combine all the models  using the averaging technique to generate the final predictions.\n"
   ]
  },
  {
   "cell_type": "code",
   "execution_count": 23,
   "id": "c9808737",
   "metadata": {},
   "outputs": [],
   "source": [
    "#seperating independent and dependent variables\n",
    "x = df.drop(['trip_duration_hour'], axis=1)\n",
    "y = df['trip_duration_hour']"
   ]
  },
  {
   "cell_type": "code",
   "execution_count": 24,
   "id": "306bbc9c",
   "metadata": {},
   "outputs": [],
   "source": [
    "from sklearn.model_selection import train_test_split\n",
    "train_x,valid_x,train_y,valid_y = train_test_split(x,y, random_state = 101, shuffle=False)"
   ]
  },
  {
   "cell_type": "code",
   "execution_count": 25,
   "id": "97668ebb",
   "metadata": {},
   "outputs": [],
   "source": [
    "#Importing all four Regressor \n",
    "from sklearn.neighbors import KNeighborsRegressor\n",
    "from sklearn.linear_model import LinearRegression\n",
    "from sklearn.ensemble import RandomForestRegressor\n",
    "from sklearn.ensemble import GradientBoostingRegressor"
   ]
  },
  {
   "cell_type": "code",
   "execution_count": 26,
   "id": "5edc6bbe",
   "metadata": {},
   "outputs": [
    {
     "data": {
      "text/plain": [
       "(array([0.24083333, 0.19444444, 0.26111111, 0.05333333, 0.28027778,\n",
       "        0.56638889, 0.07111111, 0.69722222, 0.06722222, 0.18111111]),\n",
       " 1.0)"
      ]
     },
     "execution_count": 26,
     "metadata": {},
     "output_type": "execute_result"
    }
   ],
   "source": [
    "#creating an linear regression instance and getting the prediction\n",
    "model1 = LinearRegression()\n",
    "model1.fit(train_x,train_y)\n",
    "pred1=model1.predict(valid_x)\n",
    "pred1[:10], model1.score(valid_x, valid_y)"
   ]
  },
  {
   "cell_type": "code",
   "execution_count": 27,
   "id": "d41e6717",
   "metadata": {},
   "outputs": [
    {
     "data": {
      "text/plain": [
       "(array([0.24738889, 0.19577778, 0.26261111, 0.057     , 0.2795    ,\n",
       "        0.55238889, 0.07466667, 0.69755556, 0.06694444, 0.17805556]),\n",
       " 0.9979063440475711)"
      ]
     },
     "execution_count": 27,
     "metadata": {},
     "output_type": "execute_result"
    }
   ],
   "source": [
    "#creating an KNN regression instance and getting the prediction\n",
    "model2 = KNeighborsRegressor(n_neighbors=5)\n",
    "model2.fit(train_x,train_y)\n",
    "pred2=model2.predict(valid_x)\n",
    "pred2[:10], model2.score(valid_x, valid_y)"
   ]
  },
  {
   "cell_type": "code",
   "execution_count": 28,
   "id": "8996d137",
   "metadata": {},
   "outputs": [
    {
     "data": {
      "text/plain": [
       "(array([0.24083333, 0.19444444, 0.26111111, 0.05333333, 0.28027778,\n",
       "        0.56638889, 0.07111111, 0.69722222, 0.06722222, 0.18111111]),\n",
       " 0.9999838269674108)"
      ]
     },
     "execution_count": 28,
     "metadata": {},
     "output_type": "execute_result"
    }
   ],
   "source": [
    "#creating an RandomForest regression instance and getting the prediction\n",
    "model3 = RandomForestRegressor(n_estimators=20, random_state=0)\n",
    "model3.fit(train_x,train_y)\n",
    "pred3=model3.predict(valid_x)\n",
    "pred3[:10], model3.score(valid_x, valid_y)"
   ]
  },
  {
   "cell_type": "code",
   "execution_count": 29,
   "id": "b0d15ccd",
   "metadata": {},
   "outputs": [
    {
     "data": {
      "text/plain": [
       "(array([0.24071314, 0.19505504, 0.26175579, 0.05306829, 0.28458959,\n",
       "        0.55309926, 0.07135532, 0.68437053, 0.06703168, 0.1858472 ]),\n",
       " 0.9999727960901492)"
      ]
     },
     "execution_count": 29,
     "metadata": {},
     "output_type": "execute_result"
    }
   ],
   "source": [
    "#creating an Gradient boosting instance and getting the prediction\n",
    "model4 = GradientBoostingRegressor(random_state=96)\n",
    "model4 .fit(train_x,train_y)\n",
    "pred4=model4.predict(valid_x)\n",
    "pred4[:10], model4.score(valid_x, valid_y)"
   ]
  },
  {
   "cell_type": "code",
   "execution_count": 30,
   "id": "c72971c8",
   "metadata": {},
   "outputs": [],
   "source": [
    "# df = pd.DataFrame(columns=['M1', 'M2', 'M3', 'Actual'])\n",
    "# df['M1'] = pred1\n",
    "# df['M2'] = pred2\n",
    "# df['M3'] = pred3\n",
    "#df['M4'] = pred4\n",
    "# df['Actual'] = np.array(valid_y)"
   ]
  },
  {
   "cell_type": "code",
   "execution_count": 31,
   "id": "d0cee3de",
   "metadata": {},
   "outputs": [],
   "source": [
    "# final prediction after averaging on the prediction of all 4 models\n",
    "from statistics import mean\n",
    "final_pred = np.array([])\n",
    "for i in range(0,len(valid_x)):\n",
    "    final_pred = np.append(final_pred, mean([pred1[i], pred2[i], pred3[i],pred4[i]]))"
   ]
  },
  {
   "cell_type": "code",
   "execution_count": 32,
   "id": "72720536",
   "metadata": {},
   "outputs": [],
   "source": [
    "from sklearn.metrics import r2_score"
   ]
  },
  {
   "cell_type": "code",
   "execution_count": 33,
   "id": "16c022a7",
   "metadata": {},
   "outputs": [
    {
     "data": {
      "text/plain": [
       "0.9998569687590521"
      ]
     },
     "execution_count": 33,
     "metadata": {},
     "output_type": "execute_result"
    }
   ],
   "source": [
    "r2_score(valid_y, final_pred)"
   ]
  },
  {
   "cell_type": "code",
   "execution_count": 34,
   "id": "1e4ed230",
   "metadata": {},
   "outputs": [
    {
     "data": {
      "text/plain": [
       "(1.0, 0.9979063440475711, 0.9999838269674108, 0.9999727960901492)"
      ]
     },
     "execution_count": 34,
     "metadata": {},
     "output_type": "execute_result"
    }
   ],
   "source": [
    "r2_score(valid_y, pred1), r2_score(valid_y, pred2), r2_score(valid_y, pred3),  r2_score(valid_y, pred4)"
   ]
  },
  {
   "cell_type": "code",
   "execution_count": null,
   "id": "5868d0c8",
   "metadata": {},
   "outputs": [],
   "source": []
  }
 ],
 "metadata": {
  "kernelspec": {
   "display_name": "Python 3",
   "language": "python",
   "name": "python3"
  },
  "language_info": {
   "codemirror_mode": {
    "name": "ipython",
    "version": 3
   },
   "file_extension": ".py",
   "mimetype": "text/x-python",
   "name": "python",
   "nbconvert_exporter": "python",
   "pygments_lexer": "ipython3",
   "version": "3.8.8"
  }
 },
 "nbformat": 4,
 "nbformat_minor": 5
}
