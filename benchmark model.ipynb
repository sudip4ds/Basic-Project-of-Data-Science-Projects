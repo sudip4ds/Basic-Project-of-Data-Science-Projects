{
 "cells": [
  {
   "cell_type": "markdown",
   "id": "82891697",
   "metadata": {},
   "source": [
    "# Most Suitable Evaluation Mertric\n"
   ]
  },
  {
   "attachments": {},
   "cell_type": "markdown",
   "id": "41e8845b",
   "metadata": {},
   "source": [
    "## Root Mean Squared Error (RMSE)\n",
    "##### RMSE is the most popular evaluation metric used in regression problems. It follows an assumption that error are unbiased and follow a normal distribution. Here are the key points to consider on RMSE:\n",
    "##### The power of ‘square root’  empowers this metric to show large number deviations.\n",
    "##### The ‘squared’ nature of this metric helps to deliver more robust results which prevents cancelling the positive and negative error values. In other words, this metric aptly displays the plausible magnitude of error term.\n",
    "##### It avoids the use of absolute error values which is highly undesirable in mathematical calculations.\n",
    "##### When we have more samples, reconstructing the error distribution using RMSE is considered to be more reliable.\n",
    "##### RMSE is highly affected by outlier values. Hence, make sure you’ve removed outliers from your data set prior to using this metric.\n",
    "##### As compared to mean absolute error, RMSE gives higher weightage and punishes large errors.\n",
    "##### RMSE of the given dataset is given bellow \n"
   ]
  },
  {
   "cell_type": "markdown",
   "id": "eb0842c3",
   "metadata": {},
   "source": [
    "## Benchmark Model for the given dataset"
   ]
  },
  {
   "cell_type": "code",
   "execution_count": 1,
   "id": "a05b6b5b",
   "metadata": {},
   "outputs": [],
   "source": [
    "#importing libraries \n",
    "\n",
    "import pandas as pd \n",
    "import numpy as np\n",
    "import matplotlib.pyplot as plt"
   ]
  },
  {
   "cell_type": "code",
   "execution_count": 2,
   "id": "17bc8aac",
   "metadata": {},
   "outputs": [],
   "source": [
    "data=pd.read_csv('nyc_taxi_trip_duration Dataset.csv')"
   ]
  },
  {
   "cell_type": "code",
   "execution_count": 3,
   "id": "be8fc923",
   "metadata": {},
   "outputs": [
    {
     "data": {
      "text/plain": [
       "(729322, 11)"
      ]
     },
     "execution_count": 3,
     "metadata": {},
     "output_type": "execute_result"
    }
   ],
   "source": [
    "data.shape"
   ]
  },
  {
   "cell_type": "code",
   "execution_count": 4,
   "id": "494461dc",
   "metadata": {},
   "outputs": [
    {
     "data": {
      "text/html": [
       "<div>\n",
       "<style scoped>\n",
       "    .dataframe tbody tr th:only-of-type {\n",
       "        vertical-align: middle;\n",
       "    }\n",
       "\n",
       "    .dataframe tbody tr th {\n",
       "        vertical-align: top;\n",
       "    }\n",
       "\n",
       "    .dataframe thead th {\n",
       "        text-align: right;\n",
       "    }\n",
       "</style>\n",
       "<table border=\"1\" class=\"dataframe\">\n",
       "  <thead>\n",
       "    <tr style=\"text-align: right;\">\n",
       "      <th></th>\n",
       "      <th>id</th>\n",
       "      <th>vendor_id</th>\n",
       "      <th>pickup_datetime</th>\n",
       "      <th>dropoff_datetime</th>\n",
       "      <th>passenger_count</th>\n",
       "      <th>pickup_longitude</th>\n",
       "      <th>pickup_latitude</th>\n",
       "      <th>dropoff_longitude</th>\n",
       "      <th>dropoff_latitude</th>\n",
       "      <th>store_and_fwd_flag</th>\n",
       "      <th>trip_duration</th>\n",
       "    </tr>\n",
       "  </thead>\n",
       "  <tbody>\n",
       "    <tr>\n",
       "      <th>0</th>\n",
       "      <td>id1080784</td>\n",
       "      <td>2</td>\n",
       "      <td>2016-02-29 16:40:21</td>\n",
       "      <td>2016-02-29 16:47:01</td>\n",
       "      <td>1</td>\n",
       "      <td>-73.953918</td>\n",
       "      <td>40.778873</td>\n",
       "      <td>-73.963875</td>\n",
       "      <td>40.771164</td>\n",
       "      <td>N</td>\n",
       "      <td>400</td>\n",
       "    </tr>\n",
       "    <tr>\n",
       "      <th>1</th>\n",
       "      <td>id0889885</td>\n",
       "      <td>1</td>\n",
       "      <td>2016-03-11 23:35:37</td>\n",
       "      <td>2016-03-11 23:53:57</td>\n",
       "      <td>2</td>\n",
       "      <td>-73.988312</td>\n",
       "      <td>40.731743</td>\n",
       "      <td>-73.994751</td>\n",
       "      <td>40.694931</td>\n",
       "      <td>N</td>\n",
       "      <td>1100</td>\n",
       "    </tr>\n",
       "    <tr>\n",
       "      <th>2</th>\n",
       "      <td>id0857912</td>\n",
       "      <td>2</td>\n",
       "      <td>2016-02-21 17:59:33</td>\n",
       "      <td>2016-02-21 18:26:48</td>\n",
       "      <td>2</td>\n",
       "      <td>-73.997314</td>\n",
       "      <td>40.721458</td>\n",
       "      <td>-73.948029</td>\n",
       "      <td>40.774918</td>\n",
       "      <td>N</td>\n",
       "      <td>1635</td>\n",
       "    </tr>\n",
       "    <tr>\n",
       "      <th>3</th>\n",
       "      <td>id3744273</td>\n",
       "      <td>2</td>\n",
       "      <td>2016-01-05 09:44:31</td>\n",
       "      <td>2016-01-05 10:03:32</td>\n",
       "      <td>6</td>\n",
       "      <td>-73.961670</td>\n",
       "      <td>40.759720</td>\n",
       "      <td>-73.956779</td>\n",
       "      <td>40.780628</td>\n",
       "      <td>N</td>\n",
       "      <td>1141</td>\n",
       "    </tr>\n",
       "    <tr>\n",
       "      <th>4</th>\n",
       "      <td>id0232939</td>\n",
       "      <td>1</td>\n",
       "      <td>2016-02-17 06:42:23</td>\n",
       "      <td>2016-02-17 06:56:31</td>\n",
       "      <td>1</td>\n",
       "      <td>-74.017120</td>\n",
       "      <td>40.708469</td>\n",
       "      <td>-73.988182</td>\n",
       "      <td>40.740631</td>\n",
       "      <td>N</td>\n",
       "      <td>848</td>\n",
       "    </tr>\n",
       "  </tbody>\n",
       "</table>\n",
       "</div>"
      ],
      "text/plain": [
       "          id  vendor_id      pickup_datetime     dropoff_datetime  \\\n",
       "0  id1080784          2  2016-02-29 16:40:21  2016-02-29 16:47:01   \n",
       "1  id0889885          1  2016-03-11 23:35:37  2016-03-11 23:53:57   \n",
       "2  id0857912          2  2016-02-21 17:59:33  2016-02-21 18:26:48   \n",
       "3  id3744273          2  2016-01-05 09:44:31  2016-01-05 10:03:32   \n",
       "4  id0232939          1  2016-02-17 06:42:23  2016-02-17 06:56:31   \n",
       "\n",
       "   passenger_count  pickup_longitude  pickup_latitude  dropoff_longitude  \\\n",
       "0                1        -73.953918        40.778873         -73.963875   \n",
       "1                2        -73.988312        40.731743         -73.994751   \n",
       "2                2        -73.997314        40.721458         -73.948029   \n",
       "3                6        -73.961670        40.759720         -73.956779   \n",
       "4                1        -74.017120        40.708469         -73.988182   \n",
       "\n",
       "   dropoff_latitude store_and_fwd_flag  trip_duration  \n",
       "0         40.771164                  N            400  \n",
       "1         40.694931                  N           1100  \n",
       "2         40.774918                  N           1635  \n",
       "3         40.780628                  N           1141  \n",
       "4         40.740631                  N            848  "
      ]
     },
     "execution_count": 4,
     "metadata": {},
     "output_type": "execute_result"
    }
   ],
   "source": [
    "data.head()"
   ]
  },
  {
   "cell_type": "code",
   "execution_count": 5,
   "id": "29a9a2a2",
   "metadata": {},
   "outputs": [
    {
     "data": {
      "text/plain": [
       "id                    0\n",
       "vendor_id             0\n",
       "pickup_datetime       0\n",
       "dropoff_datetime      0\n",
       "passenger_count       0\n",
       "pickup_longitude      0\n",
       "pickup_latitude       0\n",
       "dropoff_longitude     0\n",
       "dropoff_latitude      0\n",
       "store_and_fwd_flag    0\n",
       "trip_duration         0\n",
       "dtype: int64"
      ]
     },
     "execution_count": 5,
     "metadata": {},
     "output_type": "execute_result"
    }
   ],
   "source": [
    "data.isnull().sum()"
   ]
  },
  {
   "cell_type": "code",
   "execution_count": 6,
   "id": "3e3d5420",
   "metadata": {},
   "outputs": [],
   "source": [
    "from sklearn.utils import shuffle\n",
    "\n",
    "# Shuffling the Dataset\n",
    "data = shuffle(data, random_state = 42)\n",
    "\n",
    "#creating 4 divisions\n",
    "div = int(data.shape[0]/4)\n",
    "\n",
    "# 3 parts to train set and 1 part to test set\n",
    "train = data.loc[:3*div+1,:]\n",
    "test = data.loc[3*div+1:]"
   ]
  },
  {
   "cell_type": "code",
   "execution_count": 7,
   "id": "e24805ef",
   "metadata": {},
   "outputs": [
    {
     "data": {
      "text/html": [
       "<div>\n",
       "<style scoped>\n",
       "    .dataframe tbody tr th:only-of-type {\n",
       "        vertical-align: middle;\n",
       "    }\n",
       "\n",
       "    .dataframe tbody tr th {\n",
       "        vertical-align: top;\n",
       "    }\n",
       "\n",
       "    .dataframe thead th {\n",
       "        text-align: right;\n",
       "    }\n",
       "</style>\n",
       "<table border=\"1\" class=\"dataframe\">\n",
       "  <thead>\n",
       "    <tr style=\"text-align: right;\">\n",
       "      <th></th>\n",
       "      <th>id</th>\n",
       "      <th>vendor_id</th>\n",
       "      <th>pickup_datetime</th>\n",
       "      <th>dropoff_datetime</th>\n",
       "      <th>passenger_count</th>\n",
       "      <th>pickup_longitude</th>\n",
       "      <th>pickup_latitude</th>\n",
       "      <th>dropoff_longitude</th>\n",
       "      <th>dropoff_latitude</th>\n",
       "      <th>store_and_fwd_flag</th>\n",
       "      <th>trip_duration</th>\n",
       "    </tr>\n",
       "  </thead>\n",
       "  <tbody>\n",
       "    <tr>\n",
       "      <th>469114</th>\n",
       "      <td>id2380741</td>\n",
       "      <td>2</td>\n",
       "      <td>2016-05-21 10:40:14</td>\n",
       "      <td>2016-05-21 10:51:11</td>\n",
       "      <td>1</td>\n",
       "      <td>-73.981796</td>\n",
       "      <td>40.762035</td>\n",
       "      <td>-73.972267</td>\n",
       "      <td>40.781265</td>\n",
       "      <td>N</td>\n",
       "      <td>657</td>\n",
       "    </tr>\n",
       "    <tr>\n",
       "      <th>694852</th>\n",
       "      <td>id3946961</td>\n",
       "      <td>2</td>\n",
       "      <td>2016-01-08 18:49:27</td>\n",
       "      <td>2016-01-08 18:52:42</td>\n",
       "      <td>5</td>\n",
       "      <td>-73.980965</td>\n",
       "      <td>40.747677</td>\n",
       "      <td>-73.982704</td>\n",
       "      <td>40.741161</td>\n",
       "      <td>N</td>\n",
       "      <td>195</td>\n",
       "    </tr>\n",
       "    <tr>\n",
       "      <th>696324</th>\n",
       "      <td>id0833913</td>\n",
       "      <td>1</td>\n",
       "      <td>2016-05-22 00:54:10</td>\n",
       "      <td>2016-05-22 01:08:10</td>\n",
       "      <td>1</td>\n",
       "      <td>-73.951065</td>\n",
       "      <td>40.782722</td>\n",
       "      <td>-73.867691</td>\n",
       "      <td>40.833664</td>\n",
       "      <td>N</td>\n",
       "      <td>840</td>\n",
       "    </tr>\n",
       "    <tr>\n",
       "      <th>356496</th>\n",
       "      <td>id1336849</td>\n",
       "      <td>1</td>\n",
       "      <td>2016-06-11 10:32:12</td>\n",
       "      <td>2016-06-11 10:38:50</td>\n",
       "      <td>1</td>\n",
       "      <td>-73.987625</td>\n",
       "      <td>40.762791</td>\n",
       "      <td>-73.973518</td>\n",
       "      <td>40.762909</td>\n",
       "      <td>N</td>\n",
       "      <td>398</td>\n",
       "    </tr>\n",
       "    <tr>\n",
       "      <th>645318</th>\n",
       "      <td>id1610858</td>\n",
       "      <td>1</td>\n",
       "      <td>2016-04-03 10:45:51</td>\n",
       "      <td>2016-04-03 10:57:13</td>\n",
       "      <td>3</td>\n",
       "      <td>-73.964333</td>\n",
       "      <td>40.792503</td>\n",
       "      <td>-73.988609</td>\n",
       "      <td>40.758369</td>\n",
       "      <td>N</td>\n",
       "      <td>682</td>\n",
       "    </tr>\n",
       "  </tbody>\n",
       "</table>\n",
       "</div>"
      ],
      "text/plain": [
       "               id  vendor_id      pickup_datetime     dropoff_datetime  \\\n",
       "469114  id2380741          2  2016-05-21 10:40:14  2016-05-21 10:51:11   \n",
       "694852  id3946961          2  2016-01-08 18:49:27  2016-01-08 18:52:42   \n",
       "696324  id0833913          1  2016-05-22 00:54:10  2016-05-22 01:08:10   \n",
       "356496  id1336849          1  2016-06-11 10:32:12  2016-06-11 10:38:50   \n",
       "645318  id1610858          1  2016-04-03 10:45:51  2016-04-03 10:57:13   \n",
       "\n",
       "        passenger_count  pickup_longitude  pickup_latitude  dropoff_longitude  \\\n",
       "469114                1        -73.981796        40.762035         -73.972267   \n",
       "694852                5        -73.980965        40.747677         -73.982704   \n",
       "696324                1        -73.951065        40.782722         -73.867691   \n",
       "356496                1        -73.987625        40.762791         -73.973518   \n",
       "645318                3        -73.964333        40.792503         -73.988609   \n",
       "\n",
       "        dropoff_latitude store_and_fwd_flag  trip_duration  \n",
       "469114         40.781265                  N            657  \n",
       "694852         40.741161                  N            195  \n",
       "696324         40.833664                  N            840  \n",
       "356496         40.762909                  N            398  \n",
       "645318         40.758369                  N            682  "
      ]
     },
     "execution_count": 7,
     "metadata": {},
     "output_type": "execute_result"
    }
   ],
   "source": [
    "train.head()"
   ]
  },
  {
   "cell_type": "code",
   "execution_count": 8,
   "id": "edb1ddfa",
   "metadata": {},
   "outputs": [
    {
     "data": {
      "text/html": [
       "<div>\n",
       "<style scoped>\n",
       "    .dataframe tbody tr th:only-of-type {\n",
       "        vertical-align: middle;\n",
       "    }\n",
       "\n",
       "    .dataframe tbody tr th {\n",
       "        vertical-align: top;\n",
       "    }\n",
       "\n",
       "    .dataframe thead th {\n",
       "        text-align: right;\n",
       "    }\n",
       "</style>\n",
       "<table border=\"1\" class=\"dataframe\">\n",
       "  <thead>\n",
       "    <tr style=\"text-align: right;\">\n",
       "      <th></th>\n",
       "      <th>id</th>\n",
       "      <th>vendor_id</th>\n",
       "      <th>pickup_datetime</th>\n",
       "      <th>dropoff_datetime</th>\n",
       "      <th>passenger_count</th>\n",
       "      <th>pickup_longitude</th>\n",
       "      <th>pickup_latitude</th>\n",
       "      <th>dropoff_longitude</th>\n",
       "      <th>dropoff_latitude</th>\n",
       "      <th>store_and_fwd_flag</th>\n",
       "      <th>trip_duration</th>\n",
       "    </tr>\n",
       "  </thead>\n",
       "  <tbody>\n",
       "    <tr>\n",
       "      <th>546991</th>\n",
       "      <td>id2240736</td>\n",
       "      <td>1</td>\n",
       "      <td>2016-05-25 07:59:16</td>\n",
       "      <td>2016-05-25 08:05:02</td>\n",
       "      <td>1</td>\n",
       "      <td>-73.991364</td>\n",
       "      <td>40.732590</td>\n",
       "      <td>-74.000526</td>\n",
       "      <td>40.742283</td>\n",
       "      <td>N</td>\n",
       "      <td>346</td>\n",
       "    </tr>\n",
       "    <tr>\n",
       "      <th>43126</th>\n",
       "      <td>id1423404</td>\n",
       "      <td>1</td>\n",
       "      <td>2016-01-18 12:17:13</td>\n",
       "      <td>2016-01-18 12:21:13</td>\n",
       "      <td>2</td>\n",
       "      <td>-73.966225</td>\n",
       "      <td>40.768059</td>\n",
       "      <td>-73.967606</td>\n",
       "      <td>40.763073</td>\n",
       "      <td>N</td>\n",
       "      <td>240</td>\n",
       "    </tr>\n",
       "    <tr>\n",
       "      <th>641450</th>\n",
       "      <td>id1317268</td>\n",
       "      <td>2</td>\n",
       "      <td>2016-03-02 18:39:01</td>\n",
       "      <td>2016-03-02 18:50:12</td>\n",
       "      <td>1</td>\n",
       "      <td>-73.994926</td>\n",
       "      <td>40.766018</td>\n",
       "      <td>-74.004219</td>\n",
       "      <td>40.742523</td>\n",
       "      <td>N</td>\n",
       "      <td>671</td>\n",
       "    </tr>\n",
       "    <tr>\n",
       "      <th>611380</th>\n",
       "      <td>id3335546</td>\n",
       "      <td>1</td>\n",
       "      <td>2016-04-06 19:17:20</td>\n",
       "      <td>2016-04-06 19:18:03</td>\n",
       "      <td>1</td>\n",
       "      <td>-73.974388</td>\n",
       "      <td>40.793781</td>\n",
       "      <td>-73.976006</td>\n",
       "      <td>40.792339</td>\n",
       "      <td>N</td>\n",
       "      <td>43</td>\n",
       "    </tr>\n",
       "    <tr>\n",
       "      <th>62690</th>\n",
       "      <td>id2174190</td>\n",
       "      <td>2</td>\n",
       "      <td>2016-06-21 18:35:31</td>\n",
       "      <td>2016-06-21 18:40:56</td>\n",
       "      <td>3</td>\n",
       "      <td>-73.963440</td>\n",
       "      <td>40.798557</td>\n",
       "      <td>-73.979736</td>\n",
       "      <td>40.777878</td>\n",
       "      <td>N</td>\n",
       "      <td>325</td>\n",
       "    </tr>\n",
       "  </tbody>\n",
       "</table>\n",
       "</div>"
      ],
      "text/plain": [
       "               id  vendor_id      pickup_datetime     dropoff_datetime  \\\n",
       "546991  id2240736          1  2016-05-25 07:59:16  2016-05-25 08:05:02   \n",
       "43126   id1423404          1  2016-01-18 12:17:13  2016-01-18 12:21:13   \n",
       "641450  id1317268          2  2016-03-02 18:39:01  2016-03-02 18:50:12   \n",
       "611380  id3335546          1  2016-04-06 19:17:20  2016-04-06 19:18:03   \n",
       "62690   id2174190          2  2016-06-21 18:35:31  2016-06-21 18:40:56   \n",
       "\n",
       "        passenger_count  pickup_longitude  pickup_latitude  dropoff_longitude  \\\n",
       "546991                1        -73.991364        40.732590         -74.000526   \n",
       "43126                 2        -73.966225        40.768059         -73.967606   \n",
       "641450                1        -73.994926        40.766018         -74.004219   \n",
       "611380                1        -73.974388        40.793781         -73.976006   \n",
       "62690                 3        -73.963440        40.798557         -73.979736   \n",
       "\n",
       "        dropoff_latitude store_and_fwd_flag  trip_duration  \n",
       "546991         40.742283                  N            346  \n",
       "43126          40.763073                  N            240  \n",
       "641450         40.742523                  N            671  \n",
       "611380         40.792339                  N             43  \n",
       "62690          40.777878                  N            325  "
      ]
     },
     "execution_count": 8,
     "metadata": {},
     "output_type": "execute_result"
    }
   ],
   "source": [
    "test.head()"
   ]
  },
  {
   "cell_type": "code",
   "execution_count": 11,
   "id": "81228ada",
   "metadata": {},
   "outputs": [
    {
     "name": "stderr",
     "output_type": "stream",
     "text": [
      "<ipython-input-11-bcc1d6f70373>:2: SettingWithCopyWarning: \n",
      "A value is trying to be set on a copy of a slice from a DataFrame.\n",
      "Try using .loc[row_indexer,col_indexer] = value instead\n",
      "\n",
      "See the caveats in the documentation: https://pandas.pydata.org/pandas-docs/stable/user_guide/indexing.html#returning-a-view-versus-a-copy\n",
      "  test['simple_mean'] = train['trip_duration'].mean()\n"
     ]
    }
   ],
   "source": [
    "# storing simple mean in a new column in the test set as \"simple_mean\"\n",
    "test['simple_mean'] = train['trip_duration'].mean()"
   ]
  },
  {
   "cell_type": "code",
   "execution_count": 12,
   "id": "9455d52d",
   "metadata": {},
   "outputs": [
    {
     "data": {
      "text/plain": [
       "0.0"
      ]
     },
     "execution_count": 12,
     "metadata": {},
     "output_type": "execute_result"
    }
   ],
   "source": [
    "#calculating mean absolute error\n",
    "from sklearn.metrics import mean_absolute_error as MAE\n",
    "\n",
    "simple_mean_error = MAE(test['trip_duration'] , test['simple_mean'])\n",
    "simple_mean_error"
   ]
  },
  {
   "cell_type": "code",
   "execution_count": 14,
   "id": "92104737",
   "metadata": {},
   "outputs": [
    {
     "data": {
      "text/html": [
       "<div>\n",
       "<style scoped>\n",
       "    .dataframe tbody tr th:only-of-type {\n",
       "        vertical-align: middle;\n",
       "    }\n",
       "\n",
       "    .dataframe tbody tr th {\n",
       "        vertical-align: top;\n",
       "    }\n",
       "\n",
       "    .dataframe thead th {\n",
       "        text-align: right;\n",
       "    }\n",
       "</style>\n",
       "<table border=\"1\" class=\"dataframe\">\n",
       "  <thead>\n",
       "    <tr style=\"text-align: right;\">\n",
       "      <th></th>\n",
       "      <th>trip_duration</th>\n",
       "    </tr>\n",
       "    <tr>\n",
       "      <th>store_and_fwd_flag</th>\n",
       "      <th></th>\n",
       "    </tr>\n",
       "  </thead>\n",
       "  <tbody>\n",
       "    <tr>\n",
       "      <th>N</th>\n",
       "      <td>950.792228</td>\n",
       "    </tr>\n",
       "    <tr>\n",
       "      <th>Y</th>\n",
       "      <td>1094.609831</td>\n",
       "    </tr>\n",
       "  </tbody>\n",
       "</table>\n",
       "</div>"
      ],
      "text/plain": [
       "                    trip_duration\n",
       "store_and_fwd_flag               \n",
       "N                      950.792228\n",
       "Y                     1094.609831"
      ]
     },
     "execution_count": 14,
     "metadata": {},
     "output_type": "execute_result"
    }
   ],
   "source": [
    "fwd_flag = pd.pivot_table(train, values='trip_duration', index = ['store_and_fwd_flag'], aggfunc=np.mean)\n",
    "fwd_flag"
   ]
  },
  {
   "cell_type": "code",
   "execution_count": 15,
   "id": "564b7869",
   "metadata": {},
   "outputs": [
    {
     "name": "stderr",
     "output_type": "stream",
     "text": [
      "<ipython-input-15-cec4e69f4d37>:2: SettingWithCopyWarning: \n",
      "A value is trying to be set on a copy of a slice from a DataFrame.\n",
      "Try using .loc[row_indexer,col_indexer] = value instead\n",
      "\n",
      "See the caveats in the documentation: https://pandas.pydata.org/pandas-docs/stable/user_guide/indexing.html#returning-a-view-versus-a-copy\n",
      "  test['fwd_flag_mean'] = 0\n",
      "<ipython-input-15-cec4e69f4d37>:7: SettingWithCopyWarning: \n",
      "A value is trying to be set on a copy of a slice from a DataFrame\n",
      "\n",
      "See the caveats in the documentation: https://pandas.pydata.org/pandas-docs/stable/user_guide/indexing.html#returning-a-view-versus-a-copy\n",
      "  test['fwd_flag_mean'][test['store_and_fwd_flag'] == str(i)] = train['trip_duration'][train['store_and_fwd_flag'] == str(i)].mean()\n",
      "C:\\Users\\sd800\\anaconda3\\lib\\site-packages\\pandas\\core\\series.py:992: SettingWithCopyWarning: \n",
      "A value is trying to be set on a copy of a slice from a DataFrame\n",
      "\n",
      "See the caveats in the documentation: https://pandas.pydata.org/pandas-docs/stable/user_guide/indexing.html#returning-a-view-versus-a-copy\n",
      "  self._where(~key, value, inplace=True)\n",
      "<ipython-input-15-cec4e69f4d37>:7: SettingWithCopyWarning: \n",
      "A value is trying to be set on a copy of a slice from a DataFrame\n",
      "\n",
      "See the caveats in the documentation: https://pandas.pydata.org/pandas-docs/stable/user_guide/indexing.html#returning-a-view-versus-a-copy\n",
      "  test['fwd_flag_mean'][test['store_and_fwd_flag'] == str(i)] = train['trip_duration'][train['store_and_fwd_flag'] == str(i)].mean()\n"
     ]
    }
   ],
   "source": [
    "# initializing new column to zero\n",
    "test['fwd_flag_mean'] = 0\n",
    "\n",
    "# For every unique entry in Outlet_Identifier\n",
    "for i in train['store_and_fwd_flag'].unique():\n",
    "  # Assign the mean value corresponding to unique entry\n",
    "  test['fwd_flag_mean'][test['store_and_fwd_flag'] == str(i)] = train['trip_duration'][train['store_and_fwd_flag'] == str(i)].mean()"
   ]
  },
  {
   "cell_type": "code",
   "execution_count": 16,
   "id": "9b62839b",
   "metadata": {},
   "outputs": [
    {
     "data": {
      "text/plain": [
       "1.5924029542076674"
      ]
     },
     "execution_count": 16,
     "metadata": {},
     "output_type": "execute_result"
    }
   ],
   "source": [
    "#calculating mean absolute error\n",
    "fwd_flag_error = MAE(test['trip_duration'] , test['fwd_flag_mean'] )\n",
    "fwd_flag_error"
   ]
  },
  {
   "cell_type": "markdown",
   "id": "568a6612",
   "metadata": {},
   "source": [
    "## folowing the above process we can get MAe with respect to other columns"
   ]
  },
  {
   "cell_type": "code",
   "execution_count": null,
   "id": "4f0b4dd2",
   "metadata": {},
   "outputs": [],
   "source": []
  }
 ],
 "metadata": {
  "kernelspec": {
   "display_name": "Python 3",
   "language": "python",
   "name": "python3"
  },
  "language_info": {
   "codemirror_mode": {
    "name": "ipython",
    "version": 3
   },
   "file_extension": ".py",
   "mimetype": "text/x-python",
   "name": "python",
   "nbconvert_exporter": "python",
   "pygments_lexer": "ipython3",
   "version": "3.8.8"
  }
 },
 "nbformat": 4,
 "nbformat_minor": 5
}
